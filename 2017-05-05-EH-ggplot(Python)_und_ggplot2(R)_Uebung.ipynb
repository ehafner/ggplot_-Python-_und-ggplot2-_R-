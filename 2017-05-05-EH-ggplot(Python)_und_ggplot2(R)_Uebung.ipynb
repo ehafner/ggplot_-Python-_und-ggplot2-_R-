{
 "cells": [
  {
   "cell_type": "markdown",
   "metadata": {},
   "source": [
    "# Übung zu ggplot und ggplot2"
   ]
  },
  {
   "cell_type": "markdown",
   "metadata": {},
   "source": [
    "1. Bestimme die Variablen über die aes()-Funktion auf mindestens 3 verschiedene Arten, jeweils in Python und in R.\n",
    "\n",
    "2. Erstelle einen Boxplot in Python und R für 'cut' und 'price' des Datensatzes 'diamonds'.\n",
    "\n",
    "3. Verändere die Ausgabe der Legende in R, sodass diese unterhalb der Grafik angezeigt wird.\n",
    "\n",
    "4. Bestimme einen Scatterplot für 'price' und 'carat' und klassifiziere dabei nach der Variable 'cut', auf zwei verschiedene Arten. Kann man beides auch noch miteinander Verbinden? Wie kann diese Klassifizierung etwas übersichtlicher dargestellt werden?"
   ]
  },
  {
   "cell_type": "code",
   "execution_count": null,
   "metadata": {
    "collapsed": true
   },
   "outputs": [],
   "source": []
  }
 ],
 "metadata": {
  "kernelspec": {
   "display_name": "R",
   "language": "R",
   "name": "ir"
  },
  "language_info": {
   "codemirror_mode": "r",
   "file_extension": ".r",
   "mimetype": "text/x-r-source",
   "name": "R",
   "pygments_lexer": "r",
   "version": "3.3.2"
  }
 },
 "nbformat": 4,
 "nbformat_minor": 2
}
